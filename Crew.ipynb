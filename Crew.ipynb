{
  "nbformat": 4,
  "nbformat_minor": 0,
  "metadata": {
    "colab": {
      "provenance": []
    },
    "kernelspec": {
      "name": "python3",
      "display_name": "Python 3"
    },
    "language_info": {
      "name": "python"
    }
  },
  "cells": [
    {
      "cell_type": "markdown",
      "source": [
        "1. Набираем команду из пяти человек. Спрашиваем имя, выдаем сообщение о том, что человек принят в команду, и так пять раз.\n",
        "В конце выводим список команды по алфавиту.\n",
        "\n",
        "2. Набираем команду до тех пор, пока не придет Паганель.\n",
        "Работа кода выглядит так же, как в 1, но программа прекращает работу только после того, как в команду будет принят Паганель.\n",
        "В конце выводим список команды по алфавиту."
      ],
      "metadata": {
        "id": "ykx_ifQiWOGa"
      }
    },
    {
      "cell_type": "markdown",
      "source": [
        "# **Задача 1**"
      ],
      "metadata": {
        "id": "b_FxhwlgXr4a"
      }
    },
    {
      "cell_type": "code",
      "execution_count": null,
      "metadata": {
        "colab": {
          "base_uri": "https://localhost:8080/"
        },
        "id": "mQNfmjr3WMFm",
        "outputId": "6aeeb1b0-d335-446a-b80e-c8aa06306069"
      },
      "outputs": [
        {
          "output_type": "stream",
          "name": "stdout",
          "text": [
            "Тимур\n",
            "Поздравляем! Вы приняты в команду!\n",
            "Саша\n",
            "Поздравляем! Вы приняты в команду!\n",
            "Слава\n",
            "Поздравляем! Вы приняты в команду!\n",
            "Лиза\n",
            "Поздравляем! Вы приняты в команду!\n",
            "Даша\n",
            "Поздравляем! Вы приняты в команду!\n",
            "Участники команды:\n",
            "Даша\n",
            "Лиза\n",
            "Саша\n",
            "Слава\n",
            "Тимур\n"
          ]
        }
      ],
      "source": [
        "crew = []\n",
        "\n",
        "for i in range (1, 6):\n",
        "    name = str(input())\n",
        "    print(\"Поздравляем! Вы приняты в команду!\")\n",
        "    crew.append(name)\n",
        "\n",
        "crew.sort()\n",
        "\n",
        "print(\"\\n\\n\\nУчастники команды:\")\n",
        "for name in crew:\n",
        "  print(name)"
      ]
    },
    {
      "cell_type": "markdown",
      "source": [
        "# **Задача 2**"
      ],
      "metadata": {
        "id": "AQdFemLPXt3t"
      }
    },
    {
      "cell_type": "markdown",
      "source": [
        "Набираем команду до тех пор, пока не придет Паганель. Работа кода выглядит так же, как в 1, но программа прекращает работу только после того, как в команду будет принят Паганель. В конце выводим список команды по алфавиту."
      ],
      "metadata": {
        "id": "Qwzcg0eUXyO6"
      }
    },
    {
      "cell_type": "code",
      "source": [
        "crew2 = []\n",
        "\n",
        "while True:\n",
        "  name2 = str(input())\n",
        "  crew2.append(name2)\n",
        "  if name2 == \"Паганель\":\n",
        "    break\n",
        "\n",
        "crew2.sort()\n",
        "\n",
        "print(\"\\n\\n\\nУчастники команды:\")\n",
        "for name2 in crew2:\n",
        "  print(name2)"
      ],
      "metadata": {
        "colab": {
          "base_uri": "https://localhost:8080/"
        },
        "id": "spCwkKu3WjHZ",
        "outputId": "3cf60c41-7c58-421a-91ba-483f6330dff4"
      },
      "execution_count": null,
      "outputs": [
        {
          "output_type": "stream",
          "name": "stdout",
          "text": [
            "Саша\n",
            "Тимур\n",
            "Слава\n",
            "Паганель\n",
            "\n",
            "\n",
            "\n",
            "Участники команды:\n",
            "Паганель\n",
            "Саша\n",
            "Слава\n",
            "Тимур\n"
          ]
        }
      ]
    },
    {
      "cell_type": "markdown",
      "source": [
        "# **Задача 3**"
      ],
      "metadata": {
        "id": "EGHA9ll8ZFYh"
      }
    },
    {
      "cell_type": "code",
      "source": [
        "print(\"ПЕРЕДОВИКИ (сдали больше или равно 25 кг):\")\n",
        "\n",
        "my_file = open('makulatura.txt', 'r', encoding='cp1251')\n",
        "letter = open('letters.txt', 'w')\n",
        "for line in my_file:\n",
        "  items = line.split(\" - \")\n",
        "  name = items[0].strip()\n",
        "  paper = int(items[1])\n",
        "  if paper >= 25:\n",
        "    print(\"\\t\", name, \":\", paper)\n",
        "  elif paper <= 20:\n",
        "    dolg = 20 - paper #Но тогда вопрос что делать с Петровым, так как долга у него получается нет.\n",
        "\n",
        "    letter.write(f'Уважаемый/ая {name}\\n')\n",
        "    letter.write(f'Напоминаем, что Ваш долг по сдаче макулатуры составляет {dolg} кг.\\n')\n",
        "    letter.write(f'Просьба сдать недостающую макулатуру до 17 октября.')\n",
        "    if dolg > 10:\n",
        "      letter.write(f'Иначе Вас ждет суровое наказание!')\n",
        "    letter.write(f'\\t\\tАдминистрация\\n')\n",
        "\n",
        "\n",
        "letter.close()\n",
        "\n",
        "paper_total = paper + paper\n",
        "names = name + name\n",
        "\n",
        "print(\"\\n\\n\\nВСЕГО СДАЛИ:\", paper_total, \"кг\")\n",
        "\n",
        "paper_med = paper_total / len(names)\n",
        "\n",
        "print(\"\\nСРЕДНЕЕ КОЛИЧЕСТВО МАКУЛАТУРЫ НА ЧЕЛОВЕКА:\", paper_med, \"кг.\")\n"
      ],
      "metadata": {
        "colab": {
          "base_uri": "https://localhost:8080/"
        },
        "id": "G1T1ttRzYn11",
        "outputId": "25fc8c75-a846-4439-9986-9ca4c1de7704"
      },
      "execution_count": null,
      "outputs": [
        {
          "output_type": "stream",
          "name": "stdout",
          "text": [
            "ПЕРЕДОВИКИ (сдали больше или равно 25 кг):\n",
            "\t Костяшкина Клавдия Степановна : 34\n",
            "\t Яровая Ирина Анатольевна : 64\n",
            "\n",
            "\n",
            "\n",
            "ВСЕГО СДАЛИ: 128 кг\n",
            "\n",
            "СРЕДНЕЕ КОЛИЧЕСТВО МАКУЛАТУРЫ НА ЧЕЛОВЕКА: 2.6666666666666665 кг.\n"
          ]
        }
      ]
    }
  ]
}