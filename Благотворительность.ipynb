{
  "nbformat": 4,
  "nbformat_minor": 0,
  "metadata": {
    "colab": {
      "provenance": []
    },
    "kernelspec": {
      "name": "python3",
      "display_name": "Python 3"
    },
    "language_info": {
      "name": "python"
    }
  },
  "cells": [
    {
      "cell_type": "code",
      "source": [
        "amnt = 0\n",
        "\n",
        "while amnt < 5000:\n",
        "    #pass #своего рода заглушка, то есть никакое действие\n",
        "    donation = int(input(\"Сколько даёте?: \"))\n",
        "    amnt += donation\n",
        "    print(\"Сейчас собрано:\", amnt)\n",
        "\n",
        "print(\"Ура! Собраны деньги на операцию! Всего получилось:\", amnt)"
      ],
      "metadata": {
        "id": "7JmoN3YIM1-9"
      },
      "execution_count": null,
      "outputs": []
    },
    {
      "cell_type": "code",
      "source": [
        "amnt = 0\n",
        "\n",
        "while True: #бесконечный цикл\n",
        "  donation = int(input(\"Сколько даёте?: \"))\n",
        "  amnt += donation\n",
        "  print(\"Сейчас собрано: \", amnt)\n",
        "  if amnt >= 5000:\n",
        "    break\n",
        "\n",
        "print(\"Ура! Собраны деньги на операцию! Всего получилось: \", amnt)"
      ],
      "metadata": {
        "colab": {
          "base_uri": "https://localhost:8080/"
        },
        "id": "02OhptfAMxUB",
        "outputId": "e608a414-9c62-462c-dabf-1f87da40ae7c"
      },
      "execution_count": null,
      "outputs": [
        {
          "output_type": "stream",
          "name": "stdout",
          "text": [
            "Сколько даёте?: 6789\n",
            "Сейчас собрано:  6789\n",
            "Ура! Собраны деньги на операцию! Всего получилось:  6789\n"
          ]
        }
      ]
    },
    {
      "cell_type": "code",
      "source": [
        "#Теперь пытаемся сделать это через цикл for, при этом так, чтобы не брать маленькие деньги\n",
        "amnt = 0\n",
        "\n",
        "for i in range(1,31): #два раза\n",
        "  donation = int(input(\"Сколько даёте?: \"))\n",
        "  if donation < 10:\n",
        "    continue #не учитываем в сумму\n",
        "  amnt += donation\n",
        "  if amnt >= 5000:\n",
        "    break\n",
        "\n",
        "print(\"Ура! Собраны деньги на операцию! Всего получилось: \", amnt)"
      ],
      "metadata": {
        "colab": {
          "base_uri": "https://localhost:8080/"
        },
        "id": "cpcJK1GJKNuh",
        "outputId": "7160d001-1f43-459e-87a9-8562b68e0ef7"
      },
      "execution_count": null,
      "outputs": [
        {
          "output_type": "stream",
          "name": "stdout",
          "text": [
            "Сколько даёте?: 5\n",
            "Сколько даёте?: 10\n",
            "Сколько даёте?: 5000\n",
            "Ура! Собраны деньги на операцию! Всего получилось:  5010\n"
          ]
        }
      ]
    },
    {
      "cell_type": "markdown",
      "source": [
        "# **Задание:**\n",
        "\n",
        "С утра в тарелке ничего нет. Затем приходят люди (через вайл), они должны дать донаты. Сначала спрашиваем имя. Люди дают либо с плюсом, либо с минусом в лари (грущинские деньги). Если сумма положительная, вы добавляете сумму в плейт. Если человек хочет взять деньги, нужно проверить, есть ли там деньги. Если есть, то отдаём. Если их нет, то мы должны сказать, что таких денег нет.\n",
        "Прекращается всё тогда, когда придёт сторож (). После этого появляется сообщение: \"На тарелке... лари\"."
      ],
      "metadata": {
        "id": "vGVRlQ5sNku2"
      }
    },
    {
      "cell_type": "code",
      "source": [
        "plate = 0\n",
        "\n",
        "while True:\n",
        "  #print(plate)\n",
        "  name = input(\"Введите ваше имя: \") #изменить на lower\n",
        "  name = name.lower()\n",
        "  if name == \"сторож\":\n",
        "    print(\"На тарелке \", plate, \" лари\")\n",
        "    break\n",
        "  amount = int(input(\"Введите сумму: \"))\n",
        "  if amount > 0:\n",
        "    plate += amount\n",
        "    print(\"Спасибо!\")\n",
        "  elif amount == 0:\n",
        "    print(\"Вы что-то хотели?\")\n",
        "  else:\n",
        "    if plate + amount >= 0:\n",
        "      plate += amount\n",
        "      print(\"Держи, дорогой! Всё наладится...\")\n",
        "    else:\n",
        "      print(\"У нас нет столько денег! Пожалуйста, введите сумму поменьше\")\n"
      ],
      "metadata": {
        "colab": {
          "base_uri": "https://localhost:8080/"
        },
        "id": "Iz99ndmANGrV",
        "outputId": "fa0ba0ad-9381-42f6-e93c-3a886d18e716"
      },
      "execution_count": null,
      "outputs": [
        {
          "output_type": "stream",
          "name": "stdout",
          "text": [
            "Введите ваше имя: Саша\n",
            "Введите сумму: 1000\n",
            "Спасибо!\n",
            "Введите ваше имя: Тимур\n",
            "Введите сумму: -500\n",
            "Держи, дорогой! Всё наладится...\n",
            "Введите ваше имя: Марк\n",
            "Введите сумму: -1000\n",
            "У нас нет столько денег! Пожалуйста, введите сумму поменьше\n",
            "Введите ваше имя: Марк\n",
            "Введите сумму: 0\n",
            "Вы что-то хотели?\n",
            "Введите ваше имя: Марк\n",
            "Введите сумму: -100\n",
            "Держи, дорогой! Всё наладится...\n",
            "Введите ваше имя: СТОРОЖ\n",
            "На тарелке  400  лари\n"
          ]
        }
      ]
    },
    {
      "cell_type": "code",
      "source": [],
      "metadata": {
        "id": "z5LWl92lP5DK"
      },
      "execution_count": null,
      "outputs": []
    }
  ]
}