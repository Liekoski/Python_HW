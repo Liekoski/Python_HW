{
  "nbformat": 4,
  "nbformat_minor": 0,
  "metadata": {
    "colab": {
      "provenance": []
    },
    "kernelspec": {
      "name": "python3",
      "display_name": "Python 3"
    },
    "language_info": {
      "name": "python"
    }
  },
  "cells": [
    {
      "cell_type": "markdown",
      "source": [
        "# **Функции** - кусочки кода, которые мы вызываем, чтобы что-то сделать.\n",
        "Но очень часто программисты создают свои функции"
      ],
      "metadata": {
        "id": "x7t29yA0zfCs"
      }
    },
    {
      "cell_type": "code",
      "source": [
        "!pip install pymorphy3"
      ],
      "metadata": {
        "colab": {
          "base_uri": "https://localhost:8080/"
        },
        "id": "myVFn41FZxbV",
        "outputId": "a0fe4925-3994-42ad-bcac-818ad4db8ea5"
      },
      "execution_count": null,
      "outputs": [
        {
          "output_type": "stream",
          "name": "stdout",
          "text": [
            "Collecting pymorphy3\n",
            "  Downloading pymorphy3-2.0.2-py3-none-any.whl.metadata (1.8 kB)\n",
            "Collecting dawg-python>=0.7.1 (from pymorphy3)\n",
            "  Downloading DAWG_Python-0.7.2-py2.py3-none-any.whl.metadata (7.0 kB)\n",
            "Collecting pymorphy3-dicts-ru (from pymorphy3)\n",
            "  Downloading pymorphy3_dicts_ru-2.4.417150.4580142-py2.py3-none-any.whl.metadata (2.0 kB)\n",
            "Downloading pymorphy3-2.0.2-py3-none-any.whl (53 kB)\n",
            "\u001b[2K   \u001b[90m━━━━━━━━━━━━━━━━━━━━━━━━━━━━━━━━━━━━━━━━\u001b[0m \u001b[32m53.8/53.8 kB\u001b[0m \u001b[31m1.9 MB/s\u001b[0m eta \u001b[36m0:00:00\u001b[0m\n",
            "\u001b[?25hDownloading DAWG_Python-0.7.2-py2.py3-none-any.whl (11 kB)\n",
            "Downloading pymorphy3_dicts_ru-2.4.417150.4580142-py2.py3-none-any.whl (8.4 MB)\n",
            "\u001b[2K   \u001b[90m━━━━━━━━━━━━━━━━━━━━━━━━━━━━━━━━━━━━━━━━\u001b[0m \u001b[32m8.4/8.4 MB\u001b[0m \u001b[31m45.0 MB/s\u001b[0m eta \u001b[36m0:00:00\u001b[0m\n",
            "\u001b[?25hInstalling collected packages: pymorphy3-dicts-ru, dawg-python, pymorphy3\n",
            "Successfully installed dawg-python-0.7.2 pymorphy3-2.0.2 pymorphy3-dicts-ru-2.4.417150.4580142\n"
          ]
        }
      ]
    },
    {
      "cell_type": "markdown",
      "source": [
        "Например, здесь происходит анализация. 3 инструмента:\n",
        "\n",
        "\n",
        "pymystem3.Mystem()\n",
        "\n",
        "\n",
        "pymystem3.Mystem(entire_input=False)\n",
        "\n",
        "\n",
        "pymorphy3.MorphAnalyzer()\n",
        "\n",
        "Далее мы создаём функции со своим названием"
      ],
      "metadata": {
        "id": "47RAe8_ezqSy"
      }
    },
    {
      "cell_type": "markdown",
      "source": [
        "Функции начинаются со слова def (типа defenition)"
      ],
      "metadata": {
        "id": "ae0ndMVn0F2J"
      }
    },
    {
      "cell_type": "code",
      "execution_count": null,
      "metadata": {
        "colab": {
          "base_uri": "https://localhost:8080/"
        },
        "id": "i2DR6rV2ZeT4",
        "outputId": "9ab8d26b-49b7-4891-ade1-3a795423e4a9"
      },
      "outputs": [
        {
          "output_type": "stream",
          "name": "stderr",
          "text": [
            "Installing mystem to /root/.local/bin/mystem from http://download.cdn.yandex.net/mystem/mystem-3.1-linux-64bit.tar.gz\n"
          ]
        },
        {
          "output_type": "stream",
          "name": "stdout",
          "text": [
            "Введите предложение для анализа:\n",
            "Автобуса не видно\n",
            "Выберите вариант анализа:\n",
            "\n",
            "1. лемматизация MyStem,\n",
            "\n",
            " 2. полный анализ MyStem,\n",
            "\n",
            " 3. анализ без пунктуации MyStem,\n",
            "\n",
            "4. анализ pymorphy\n",
            "\n",
            "5. лемматизация pymorphy3\n",
            "{'analysis': [{'lex': 'автобус', 'wt': 1, 'gr': 'S,муж,неод=род,ед'}], 'text': 'Автобуса'}\n",
            "{'analysis': [{'lex': 'не', 'wt': 1, 'gr': 'PART='}], 'text': 'не'}\n",
            "{'analysis': [{'lex': 'видно', 'wt': 0.3098654057, 'gr': 'ADV,вводн='}], 'text': 'видно'}\n"
          ]
        }
      ],
      "source": [
        "import pymystem3, pymorphy3\n",
        "from nltk import word_tokenize as wt\n",
        "mystem = pymystem3.Mystem() #инициализируем анализатор MyStem\n",
        "mystem_no_punct = pymystem3.Mystem(entire_input=False) #инициализируем анализатор MyStem с запретом на анализ всего ввода, то есть исключаем пунктуацию\n",
        "pymorph = pymorphy3.MorphAnalyzer() #инициализируем анализатор pymorphy3\n",
        "\n",
        "\n",
        "def mystem_lemmatize(x): #Функция для лемматизации MyStem\n",
        "    result = mystem.lemmatize(x)\n",
        "    for item in result:\n",
        "        print(item)\n",
        "        print(111)\n",
        "\n",
        "def mystem_analyze_full(x): #Функция для полного морфологического анализа MyStem\n",
        "    result = mystem.analyze(x)\n",
        "    for item in result:\n",
        "        print(item)\n",
        "\n",
        "def mystem_analyze_no_punct(x): #Функция для анализа MyStem без пунктуации\n",
        "    result = mystem_no_punct.analyze(x)\n",
        "    for item in result:\n",
        "        print(item)\n",
        "\n",
        "def pymorphy_analyze(x): #Функция для анализа с помощью pymorphy\n",
        "    tokenized = wt(x) #Так как pymorphy не может есть больше одной словоформы, токенизируем предложение.\n",
        "    analyzed = [] #список для разборов\n",
        "    for item in tokenized: #Каждую словоформу в токенизированном предложении...\n",
        "        parsed = pymorph.parse(item)[0] #парсим pymorphy\n",
        "        analyzed.append(parsed) #добавляем в список разборы\n",
        "        for item in analyzed: #печатаем по одному\n",
        "            print(item)\n",
        "\n",
        "def pymorphy_lemmata(x): #Функция для лемматизации с помощью pymorphy\n",
        "    tokenized = wt(x) #Так как pymorphy не может есть больше одной словоформы, токенизируем предложение.\n",
        "    for item in tokenized: #Каждую словоформу в токенизированном предложении...\n",
        "        parsed = pymorph.parse(item)[0] #парсим pymorphy\n",
        "        print(parsed.normal_form) #и распечатываем словарную форму\n",
        "\n",
        "string = input('Введите предложение для анализа:\\n')\n",
        "variant = input('''Выберите вариант анализа:\\n\\n1. лемматизация MyStem,\\n\\n 2. полный анализ MyStem,\\n\\n 3. анализ без пунктуации MyStem,\\n\n",
        "4. анализ pymorphy\\n\n",
        "5. лемматизация pymorphy''')\n",
        "if variant == '1':\n",
        "    mystem_lemmatize(string)\n",
        "elif variant == '2':\n",
        "    mystem_analyze_full(string)\n",
        "elif variant == '3':\n",
        "    mystem_analyze_no_punct(string)\n",
        "elif variant == '4':\n",
        "    pymorphy_analyze(string)\n",
        "elif variant == '5':\n",
        "    pymorphy_lemmata(string)\n"
      ]
    },
    {
      "cell_type": "markdown",
      "source": [
        "Если мы просто скопируем код, то ничего не произойдёт, так как после def просто описание функции. Чтобы заработало, мы просто вносим само название функции"
      ],
      "metadata": {
        "id": "LSkvP-FS0S3j"
      }
    },
    {
      "cell_type": "code",
      "source": [
        "def mystem_analyze_full(x): #Функция для полного морфологического анализа MyStem\n",
        "    result = mystem.analyze(x)\n",
        "    for item in result:\n",
        "        print(item)"
      ],
      "metadata": {
        "id": "uWbrtbiK1x0m"
      },
      "execution_count": null,
      "outputs": []
    },
    {
      "cell_type": "code",
      "source": [
        "mystem_analyze_full('Экзаменов не будет')"
      ],
      "metadata": {
        "colab": {
          "base_uri": "https://localhost:8080/"
        },
        "id": "ekhoNZug09gM",
        "outputId": "a4324f6b-19eb-487f-b04b-7b7678cfcba6"
      },
      "execution_count": null,
      "outputs": [
        {
          "output_type": "stream",
          "name": "stdout",
          "text": [
            "{'analysis': [{'lex': 'экзамен', 'wt': 1, 'gr': 'S,муж,неод=род,мн'}], 'text': 'Экзаменов'}\n",
            "{'text': ' '}\n",
            "{'analysis': [{'lex': 'не', 'wt': 1, 'gr': 'PART='}], 'text': 'не'}\n",
            "{'text': ' '}\n",
            "{'analysis': [{'lex': 'быть', 'wt': 0.1492564349, 'gr': 'V,нп=непрош,ед,изъяв,3-л'}], 'text': 'будет'}\n",
            "{'text': '\\n'}\n"
          ]
        }
      ]
    },
    {
      "cell_type": "markdown",
      "source": [
        "**Лемма** - исходная форма слова"
      ],
      "metadata": {
        "id": "3e3NZcMc1GXz"
      }
    },
    {
      "cell_type": "markdown",
      "source": [
        "Попробуем создать свою функцию"
      ],
      "metadata": {
        "id": "H80xJ5uI2tO3"
      }
    },
    {
      "cell_type": "code",
      "source": [
        "def mystem_lemmatize_polite(x): #Функция для лемматизации MyStem\n",
        "    result = mystem.lemmatize(x)\n",
        "    for item in result:\n",
        "        print(item)"
      ],
      "metadata": {
        "id": "AAOje2ac2vVk"
      },
      "execution_count": null,
      "outputs": []
    },
    {
      "cell_type": "code",
      "source": [
        "mystem_lemmatize_polite('Мир станет лучше!')"
      ],
      "metadata": {
        "colab": {
          "base_uri": "https://localhost:8080/"
        },
        "id": "IlPpHAGm23fD",
        "outputId": "2231fdd7-f866-400c-a787-76dd8c378fa3"
      },
      "execution_count": null,
      "outputs": [
        {
          "output_type": "stream",
          "name": "stdout",
          "text": [
            "мир\n",
            " \n",
            "становиться\n",
            " \n",
            "хороший\n",
            "!\n",
            "\n",
            "\n"
          ]
        }
      ]
    },
    {
      "cell_type": "markdown",
      "source": [
        "Добавляем параметр"
      ],
      "metadata": {
        "id": "TmwpzVjk3Huq"
      }
    },
    {
      "cell_type": "code",
      "source": [
        "def mystem_lemmatize_polite(x, name): #Функция для лемматизации MyStem\n",
        "    result = mystem.lemmatize(x)\n",
        "    print(name, '- результат вот: \\n')\n",
        "    for item in result:\n",
        "        print(item)"
      ],
      "metadata": {
        "id": "IVIEUCTa3FTs"
      },
      "execution_count": null,
      "outputs": []
    },
    {
      "cell_type": "code",
      "source": [
        "mystem_lemmatize_polite('Как твои дела?', 'Вася')"
      ],
      "metadata": {
        "colab": {
          "base_uri": "https://localhost:8080/"
        },
        "id": "jO3wxXcT26Ut",
        "outputId": "25a0b9dc-e083-4d41-8c05-4ea95bed0ace"
      },
      "execution_count": null,
      "outputs": [
        {
          "output_type": "stream",
          "name": "stdout",
          "text": [
            "Вася - результат вот: \n",
            "\n",
            "как\n",
            " \n",
            "твой\n",
            " \n",
            "дело\n",
            "?\n",
            "\n",
            "\n"
          ]
        }
      ]
    },
    {
      "cell_type": "markdown",
      "source": [
        "Функция умеет не только принимать, но и возвращать\n",
        "Вернуть функция сможет при помощи слова **return**"
      ],
      "metadata": {
        "id": "dK0C6B4G3r3s"
      }
    },
    {
      "cell_type": "code",
      "source": [
        "def mystem_lemmatize_polite(x, name): #Функция для лемматизации MyStem\n",
        "    result = mystem.lemmatize(x)\n",
        "    print(name, '- результат вот: \\n')\n",
        "    for item in result:\n",
        "        print(item)\n",
        "    return result"
      ],
      "metadata": {
        "id": "3qHls1XG33Va"
      },
      "execution_count": null,
      "outputs": []
    },
    {
      "cell_type": "code",
      "source": [
        "final_data = mystem_lemmatize_polite('Как твои дела?', 'Вася')\n",
        "print(final_data)"
      ],
      "metadata": {
        "colab": {
          "base_uri": "https://localhost:8080/"
        },
        "id": "IZdXj-Fq38j_",
        "outputId": "9ee923cf-7b32-4e94-a78b-a6a7e35c52c7"
      },
      "execution_count": null,
      "outputs": [
        {
          "output_type": "stream",
          "name": "stdout",
          "text": [
            "Вася - результат вот: \n",
            "\n",
            "как\n",
            " \n",
            "твой\n",
            " \n",
            "дело\n",
            "?\n",
            "\n",
            "\n",
            "['как', ' ', 'твой', ' ', 'дело', '?', '\\n']\n"
          ]
        }
      ]
    },
    {
      "cell_type": "markdown",
      "source": [
        "Пробуем написать функцию:\n",
        "принимает а.\n",
        "если а делится без остатка на 2, то пишет, что чётное. в обратном случае - нечётное"
      ],
      "metadata": {
        "id": "QN98Zz814T7D"
      }
    },
    {
      "cell_type": "code",
      "source": [
        "def odds(a):\n",
        "  if a % 2 == 0:\n",
        "    print('Чётное')\n",
        "  else:\n",
        "    print('Нечётное')"
      ],
      "metadata": {
        "id": "iigf5rah4AEv"
      },
      "execution_count": null,
      "outputs": []
    },
    {
      "cell_type": "code",
      "source": [
        "odds(239)"
      ],
      "metadata": {
        "colab": {
          "base_uri": "https://localhost:8080/"
        },
        "id": "X7eZ9Gq044q3",
        "outputId": "7d250939-fe60-42f0-8bd7-8aaf3b464e83"
      },
      "execution_count": null,
      "outputs": [
        {
          "output_type": "stream",
          "name": "stdout",
          "text": [
            "Нечётное\n"
          ]
        }
      ]
    },
    {
      "cell_type": "code",
      "source": [
        "odds(238)"
      ],
      "metadata": {
        "colab": {
          "base_uri": "https://localhost:8080/"
        },
        "id": "bbg-2GcT4-0H",
        "outputId": "198802bb-ac37-47f5-95a9-0753f4a84b47"
      },
      "execution_count": null,
      "outputs": [
        {
          "output_type": "stream",
          "name": "stdout",
          "text": [
            "Чётное\n"
          ]
        }
      ]
    },
    {
      "cell_type": "markdown",
      "source": [
        "Хулиганим!!!!!"
      ],
      "metadata": {
        "id": "iLTphY5d5gdx"
      }
    },
    {
      "cell_type": "code",
      "source": [
        "def odds(a):\n",
        "  if a % 2 == 0:\n",
        "    b = a / 2 #чётные делит на 2\n",
        "  else:\n",
        "    b = a * 10 #нечётные умножаются на 10\n",
        "  return(b)"
      ],
      "metadata": {
        "id": "9L3EUa9J5jx6"
      },
      "execution_count": null,
      "outputs": []
    },
    {
      "cell_type": "code",
      "source": [
        "c = odds(239)\n",
        "print(c)"
      ],
      "metadata": {
        "colab": {
          "base_uri": "https://localhost:8080/"
        },
        "id": "Ldd8sb6l5pf7",
        "outputId": "1d9ff391-a89b-4b46-bf4e-4124bdb46ea2"
      },
      "execution_count": null,
      "outputs": [
        {
          "output_type": "stream",
          "name": "stdout",
          "text": [
            "2390\n"
          ]
        }
      ]
    },
    {
      "cell_type": "code",
      "source": [
        "d = odds(238)\n",
        "print(d)"
      ],
      "metadata": {
        "colab": {
          "base_uri": "https://localhost:8080/"
        },
        "id": "MPbhWBG76FSR",
        "outputId": "2c03afd0-2d35-4840-f0d0-4e63488ea077"
      },
      "execution_count": null,
      "outputs": [
        {
          "output_type": "stream",
          "name": "stdout",
          "text": [
            "119.0\n"
          ]
        }
      ]
    },
    {
      "cell_type": "markdown",
      "source": [
        "**Способ испортить код**\n",
        "\n",
        "\n",
        "Мы назвали свою функцию print, и теперь print не просто выводит то, что нужно, а сначала прогоняет через нашу функцию"
      ],
      "metadata": {
        "id": "rdYj5GH66g_d"
      }
    },
    {
      "cell_type": "code",
      "source": [
        "def print(a):\n",
        "  if a % 2 == 0:\n",
        "    b = a / 2 #чётные делит на 2\n",
        "  else:\n",
        "    b = a * 10 #нечётные умножаются на 10\n",
        "  return(b)"
      ],
      "metadata": {
        "id": "jLk5uEIf6RKu"
      },
      "execution_count": null,
      "outputs": []
    },
    {
      "cell_type": "code",
      "source": [
        "print(35)"
      ],
      "metadata": {
        "colab": {
          "base_uri": "https://localhost:8080/"
        },
        "id": "sU49Kf9u6nUT",
        "outputId": "d1ff3f59-b3a4-4568-e2cf-a64308d8ab72"
      },
      "execution_count": null,
      "outputs": [
        {
          "output_type": "execute_result",
          "data": {
            "text/plain": [
              "350"
            ]
          },
          "metadata": {},
          "execution_count": 42
        }
      ]
    },
    {
      "cell_type": "code",
      "source": [
        "print(36)"
      ],
      "metadata": {
        "colab": {
          "base_uri": "https://localhost:8080/"
        },
        "id": "mzpSPykK6qdd",
        "outputId": "34689790-a052-4239-f55b-878f208cb0e7"
      },
      "execution_count": null,
      "outputs": [
        {
          "output_type": "execute_result",
          "data": {
            "text/plain": [
              "18.0"
            ]
          },
          "metadata": {},
          "execution_count": 43
        }
      ]
    },
    {
      "cell_type": "code",
      "source": [
        "def print(a):\n",
        "  return 'Ничего не буду печатать, пока не извинишься перед мамой'"
      ],
      "metadata": {
        "id": "U-tW0cIU7M6V"
      },
      "execution_count": null,
      "outputs": []
    },
    {
      "cell_type": "code",
      "source": [
        "print('Hello world!')"
      ],
      "metadata": {
        "colab": {
          "base_uri": "https://localhost:8080/",
          "height": 35
        },
        "id": "-2nW7lP27ULt",
        "outputId": "61200a62-65fa-47d6-9976-2e10ca29ce23"
      },
      "execution_count": null,
      "outputs": [
        {
          "output_type": "execute_result",
          "data": {
            "text/plain": [
              "'Ничего не буду печатать, пока не извинишься перед мамой'"
            ],
            "application/vnd.google.colaboratory.intrinsic+json": {
              "type": "string"
            }
          },
          "metadata": {},
          "execution_count": 45
        }
      ]
    },
    {
      "cell_type": "code",
      "source": [
        "print(2 + 2)"
      ],
      "metadata": {
        "colab": {
          "base_uri": "https://localhost:8080/",
          "height": 35
        },
        "id": "LhrFy-O97Bxi",
        "outputId": "29d480e9-e67b-444a-e9f5-d6fd37979a40"
      },
      "execution_count": null,
      "outputs": [
        {
          "output_type": "execute_result",
          "data": {
            "text/plain": [
              "'Ничего не буду печатать, пока не извинишься перед мамой'"
            ],
            "application/vnd.google.colaboratory.intrinsic+json": {
              "type": "string"
            }
          },
          "metadata": {},
          "execution_count": 46
        }
      ]
    },
    {
      "cell_type": "code",
      "source": [
        "def print(a):\n",
        "  return a"
      ],
      "metadata": {
        "id": "YJd5gySeDk_d"
      },
      "execution_count": null,
      "outputs": []
    },
    {
      "cell_type": "markdown",
      "source": [
        "Снова делаем калькулятор (старая работа)\n",
        "\n",
        "1) Добавить while"
      ],
      "metadata": {
        "id": "cv17-51T69tr"
      }
    },
    {
      "cell_type": "code",
      "source": [
        "def calculator(a, sign, b):\n",
        "  result = 'Что-то пошло не так'\n",
        "  if sign == '+':\n",
        "    result = a + b\n",
        "  elif sign == '-':\n",
        "    result = a - b\n",
        "  elif sign == '/':\n",
        "    result = a / b\n",
        "  else:\n",
        "    result = a * b\n",
        "\n",
        "  full_answer = f'{a}{sign}{b} = {result}'\n",
        "  return full_answer\n",
        "\n",
        "while True:\n",
        "  sign = input('Введите операцию (+-/*), для выхода нажмите ! : ')\n",
        "  if sign == '!':\n",
        "    print(\"До свидания!\")\n",
        "    break\n",
        "  number1 = int(input('Введите первое число: '))\n",
        "  number2 = int(input('Введите второе число: '))\n",
        "\n",
        "  result_calculator = calculator(number1, sign, number2)\n",
        "  print(result_calculator)\n"
      ],
      "metadata": {
        "colab": {
          "base_uri": "https://localhost:8080/"
        },
        "id": "HdeOIrUC8GnA",
        "outputId": "79c249a5-8843-4aa2-93cf-a7a7cf7a0cbe"
      },
      "execution_count": null,
      "outputs": [
        {
          "name": "stdout",
          "output_type": "stream",
          "text": [
            "Введите операцию (+-/*), для выхода нажмите ! : 9\n",
            "Введите первое число: 8\n",
            "Введите второе число: 9\n",
            "Введите операцию (+-/*), для выхода нажмите ! : +\n",
            "Введите первое число: 9\n",
            "Введите второе число: 8\n",
            "Введите операцию (+-/*), для выхода нажмите ! : !\n"
          ]
        }
      ]
    },
    {
      "cell_type": "code",
      "source": [],
      "metadata": {
        "id": "MtFj_J2n-WBq"
      },
      "execution_count": null,
      "outputs": []
    }
  ]
}