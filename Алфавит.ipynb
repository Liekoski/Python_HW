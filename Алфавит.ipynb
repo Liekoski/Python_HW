{
  "nbformat": 4,
  "nbformat_minor": 0,
  "metadata": {
    "colab": {
      "provenance": []
    },
    "kernelspec": {
      "name": "python3",
      "display_name": "Python 3"
    },
    "language_info": {
      "name": "python"
    }
  },
  "cells": [
    {
      "cell_type": "markdown",
      "source": [
        "Код из файла:"
      ],
      "metadata": {
        "id": "JzH8sGFN67M9"
      }
    },
    {
      "cell_type": "code",
      "execution_count": null,
      "metadata": {
        "id": "ZQOPVlgD6aLS"
      },
      "outputs": [],
      "source": [
        "rus_alphabet = 'абвгдеёжзийклмнопрстуфхцчшщьыъэюя'\n",
        "\n",
        "##Первая буква алфавита: ???\n",
        "print('Первая буква алфавита:', rus_alphabet[0])\n",
        "\n",
        "##Шестнадцатая буква алфавита: ???\n",
        "##Пятая с конца буква алфавита: ???\n",
        "##Две первые буквы алфавита: ???\n",
        "##Три последние буквы алфавита: ???\n",
        "##Буквы алфавита со второй по шестую: ???\n",
        "##Четные буквы алфавита: ???\n",
        "##А это три первых буквы алфавита, повторенные пять раз: ???\n",
        "##Мы объединили четыре первых буквы алфавита и две последних: ???\n",
        "##Здесь вывели вначале нечетные буквы, а сразу за ними все четные: ???\n",
        "\n",
        "\n",
        "##Длина rus_alphabet: ???\n",
        "\n",
        "##Позиция буквы 'о': ???\n",
        "##Позиция буквы 'a': ???\n",
        "##Позиция буквы 'w': ???"
      ]
    },
    {
      "cell_type": "markdown",
      "source": [
        "В данном случае мы работаем со строками"
      ],
      "metadata": {
        "id": "_i7WdkyL7eW3"
      }
    },
    {
      "cell_type": "code",
      "source": [
        "alphabet = 'абвгдеёжзийклмнопрстуфхцчшщьыъэюя'"
      ],
      "metadata": {
        "id": "bqyxAJB07hGw"
      },
      "execution_count": null,
      "outputs": []
    },
    {
      "cell_type": "code",
      "source": [
        "print(len(alphabet)) #выводим длину строки"
      ],
      "metadata": {
        "colab": {
          "base_uri": "https://localhost:8080/"
        },
        "id": "r9d2E6BF7na5",
        "outputId": "a890004f-c3ac-4fd0-fff8-ca6e9d7596f3"
      },
      "execution_count": null,
      "outputs": [
        {
          "output_type": "stream",
          "name": "stdout",
          "text": [
            "33\n"
          ]
        }
      ]
    },
    {
      "cell_type": "code",
      "source": [
        "print('Первая буква алфавита:', alphabet[0])"
      ],
      "metadata": {
        "colab": {
          "base_uri": "https://localhost:8080/"
        },
        "id": "F9to6xnS7sz_",
        "outputId": "1cec845c-20f9-4c49-fb19-797fcb4a3a46"
      },
      "execution_count": null,
      "outputs": [
        {
          "output_type": "stream",
          "name": "stdout",
          "text": [
            "Первая буква алфавита: а\n"
          ]
        }
      ]
    },
    {
      "cell_type": "code",
      "source": [
        "print('Шестнадцатая буква алфавита:', alphabet[15])"
      ],
      "metadata": {
        "colab": {
          "base_uri": "https://localhost:8080/"
        },
        "id": "jaFiNOaY77QI",
        "outputId": "efc52f11-5968-4f23-f262-9ad20dc8b295"
      },
      "execution_count": null,
      "outputs": [
        {
          "output_type": "stream",
          "name": "stdout",
          "text": [
            "Шестнадцатая буква алфавита: о\n"
          ]
        }
      ]
    },
    {
      "cell_type": "code",
      "source": [
        "print('Пятая с конца буква алфавита:', alphabet[-5])"
      ],
      "metadata": {
        "colab": {
          "base_uri": "https://localhost:8080/"
        },
        "id": "LtUMqbZt8AlU",
        "outputId": "5ea3f726-1e00-45ca-cf46-d8358a3fd1f3"
      },
      "execution_count": null,
      "outputs": [
        {
          "output_type": "stream",
          "name": "stdout",
          "text": [
            "Пятая с конца буква алфавита: ы\n"
          ]
        }
      ]
    },
    {
      "cell_type": "code",
      "source": [
        "print('Две первые буквы алфавита:', alphabet[0:2])"
      ],
      "metadata": {
        "colab": {
          "base_uri": "https://localhost:8080/"
        },
        "id": "ZIfzqiTO8P8o",
        "outputId": "ef43a584-c424-430b-da40-246f44d446d3"
      },
      "execution_count": null,
      "outputs": [
        {
          "output_type": "stream",
          "name": "stdout",
          "text": [
            "Две первые буквы алфавита: аб\n"
          ]
        }
      ]
    },
    {
      "cell_type": "code",
      "source": [
        "print('Три последние буквы алфавита:', alphabet[-3::])"
      ],
      "metadata": {
        "colab": {
          "base_uri": "https://localhost:8080/"
        },
        "id": "0NC6U0dP8ehO",
        "outputId": "d42433e6-c57e-49fb-a047-00aab9e392ca"
      },
      "execution_count": null,
      "outputs": [
        {
          "output_type": "stream",
          "name": "stdout",
          "text": [
            "Три последние буквы алфавита: эюя\n"
          ]
        }
      ]
    },
    {
      "cell_type": "code",
      "source": [
        "print('Буквы алфавита со второй по шестую:', alphabet[1:6])"
      ],
      "metadata": {
        "colab": {
          "base_uri": "https://localhost:8080/"
        },
        "id": "jEVACx9d8yLF",
        "outputId": "c6b9e991-c1eb-4902-ca6d-6a54f8e6f9fa"
      },
      "execution_count": null,
      "outputs": [
        {
          "output_type": "stream",
          "name": "stdout",
          "text": [
            "Буквы алфавита со второй по шестую:: бвгде\n"
          ]
        }
      ]
    },
    {
      "cell_type": "code",
      "source": [
        "print('Четные буквы алфавита:', alphabet[1::2]) #Нам нужны четные буквы, поэтому начинаем со второго символа"
      ],
      "metadata": {
        "colab": {
          "base_uri": "https://localhost:8080/"
        },
        "id": "HizoPhQS9HSR",
        "outputId": "676fd130-bc25-43b5-ce76-edb8c69e5b26"
      },
      "execution_count": null,
      "outputs": [
        {
          "output_type": "stream",
          "name": "stdout",
          "text": [
            "Четные буквы алфавита: бгежикмортфцшьъю\n"
          ]
        }
      ]
    },
    {
      "cell_type": "code",
      "source": [
        "print('А это три первых буквы алфавита, повторенные пять раз:', (alphabet[:3])*5)"
      ],
      "metadata": {
        "colab": {
          "base_uri": "https://localhost:8080/"
        },
        "id": "xSB9-qj19tTB",
        "outputId": "8bce5664-afe1-400e-f271-84a5f308004f"
      },
      "execution_count": null,
      "outputs": [
        {
          "output_type": "stream",
          "name": "stdout",
          "text": [
            "А это три первых буквы алфавита, повторенные пять раз: абвабвабвабвабв\n"
          ]
        }
      ]
    },
    {
      "cell_type": "code",
      "source": [
        "print('Мы объединили четыре первых буквы алфавита и две последних:', alphabet[:4]+alphabet[-2::])"
      ],
      "metadata": {
        "colab": {
          "base_uri": "https://localhost:8080/"
        },
        "id": "EGiXLirc-2ls",
        "outputId": "79ca7d66-ad42-4388-fc99-d6d27158569c"
      },
      "execution_count": null,
      "outputs": [
        {
          "output_type": "stream",
          "name": "stdout",
          "text": [
            "Мы объединили четыре первых буквы алфавита и две последних: абвгюя\n"
          ]
        }
      ]
    },
    {
      "cell_type": "code",
      "source": [
        "print('Здесь вывели вначале нечетные буквы, а сразу за ними все четные:', alphabet[0::2], '', alphabet[1::2])"
      ],
      "metadata": {
        "colab": {
          "base_uri": "https://localhost:8080/"
        },
        "id": "884WYX8X_PNL",
        "outputId": "6b7e76a5-ca68-4d59-edfe-c5eb1173cc2b"
      },
      "execution_count": null,
      "outputs": [
        {
          "output_type": "stream",
          "name": "stdout",
          "text": [
            "Здесь вывели вначале нечетные буквы, а сразу за ними все четные: авдёзйлнпсухчщыэя  бгежикмортфцшьъю\n"
          ]
        }
      ]
    },
    {
      "cell_type": "code",
      "source": [
        "print('Длина нашего алфавита:', len(alphabet))"
      ],
      "metadata": {
        "colab": {
          "base_uri": "https://localhost:8080/"
        },
        "id": "yNcSfAeM_n-T",
        "outputId": "2f17cb82-fc21-475e-d97e-1ee1f3b03d2e"
      },
      "execution_count": null,
      "outputs": [
        {
          "output_type": "stream",
          "name": "stdout",
          "text": [
            "Длина нашего алфавита: 33\n"
          ]
        }
      ]
    },
    {
      "cell_type": "code",
      "source": [
        "print(\"Позиция буквы 'о':\", alphabet.find('о'))"
      ],
      "metadata": {
        "colab": {
          "base_uri": "https://localhost:8080/"
        },
        "id": "W-KW8kDQ_zmi",
        "outputId": "58f88df9-d5f8-4441-a3f3-366627f8665e"
      },
      "execution_count": null,
      "outputs": [
        {
          "output_type": "stream",
          "name": "stdout",
          "text": [
            "Позиция буквы 'о': 15\n"
          ]
        }
      ]
    },
    {
      "cell_type": "code",
      "source": [
        "print(\"Позиция буквы 'а':\", alphabet.find('а'))"
      ],
      "metadata": {
        "colab": {
          "base_uri": "https://localhost:8080/"
        },
        "id": "ksCXQki9AM3z",
        "outputId": "d57aee0e-ff6d-4261-c0c8-268ad3912f40"
      },
      "execution_count": null,
      "outputs": [
        {
          "output_type": "stream",
          "name": "stdout",
          "text": [
            "Позиция буквы 'а': 0\n"
          ]
        }
      ]
    },
    {
      "cell_type": "code",
      "source": [
        "print(\"Позиция буквы 'w':\", alphabet.find('w')) #Выдаёт так, потому что 'w' нет в нашем алфавите"
      ],
      "metadata": {
        "colab": {
          "base_uri": "https://localhost:8080/"
        },
        "id": "PJs93UyfAQ5L",
        "outputId": "eded47cb-4a13-4d05-802c-47e8e34d6c2e"
      },
      "execution_count": null,
      "outputs": [
        {
          "output_type": "stream",
          "name": "stdout",
          "text": [
            "Позиция буквы 'w': -1\n"
          ]
        }
      ]
    },
    {
      "cell_type": "markdown",
      "source": [
        "**Дополнительное** **задание**"
      ],
      "metadata": {
        "id": "-KAAU6EaAcAj"
      }
    },
    {
      "cell_type": "markdown",
      "source": [
        "ДОДОЛНИТЕЛЬНАЯ ЗАДАЧКА!\n",
        "\n",
        "Некоторые пассажиры считают билет счастливым, если сумма первых трех цифр номера билета совпадает с суммой последних трех цифр.\n",
        "\n",
        "Напишите программу, которая проверяет, счастливый ли билет.\n",
        "Пользователя просят ввести номер билета.\n",
        "Выводить надо только слово \"Счастливый\" или \"Обычный\".\n",
        "\n",
        "Используйте срезы.\n"
      ],
      "metadata": {
        "id": "rSN4Gpz5AgbB"
      }
    },
    {
      "cell_type": "code",
      "source": [
        "numbers = str(input(\"Введите номер билета:\"))\n",
        "summa1 = int(numbers[0]) + int(numbers[1]) + int(numbers[2])\n",
        "summa2 = int(numbers[3]) + int(numbers[4]) + int(numbers[5])\n",
        "\n",
        "if summa1 == summa2:\n",
        "  print(\"Счастливый\")\n",
        "\n",
        "else:\n",
        "  print(\"Обычный\")"
      ],
      "metadata": {
        "colab": {
          "base_uri": "https://localhost:8080/"
        },
        "id": "jOggMr-3AgFY",
        "outputId": "6d2defd4-06e0-4a53-cc74-a966f0d0453d"
      },
      "execution_count": null,
      "outputs": [
        {
          "output_type": "stream",
          "name": "stdout",
          "text": [
            "Введите номер билета:543876\n",
            "Обычный\n"
          ]
        }
      ]
    }
  ]
}