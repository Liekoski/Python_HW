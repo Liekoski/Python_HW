{
  "nbformat": 4,
  "nbformat_minor": 0,
  "metadata": {
    "colab": {
      "provenance": []
    },
    "kernelspec": {
      "name": "python3",
      "display_name": "Python 3"
    },
    "language_info": {
      "name": "python"
    }
  },
  "cells": [
    {
      "cell_type": "markdown",
      "source": [
        "Сегодня мы будем работать с файлами PDF"
      ],
      "metadata": {
        "id": "PQrL4ORHl_UW"
      }
    },
    {
      "cell_type": "code",
      "execution_count": null,
      "metadata": {
        "colab": {
          "base_uri": "https://localhost:8080/"
        },
        "id": "nBlR9QhVk20c",
        "outputId": "3c061654-4cc1-4950-afdd-3fd8149987ce"
      },
      "outputs": [
        {
          "output_type": "stream",
          "name": "stdout",
          "text": [
            "Collecting PyPDF2\n",
            "  Downloading pypdf2-3.0.1-py3-none-any.whl.metadata (6.8 kB)\n",
            "Downloading pypdf2-3.0.1-py3-none-any.whl (232 kB)\n",
            "\u001b[?25l   \u001b[90m━━━━━━━━━━━━━━━━━━━━━━━━━━━━━━━━━━━━━━━━\u001b[0m \u001b[32m0.0/232.6 kB\u001b[0m \u001b[31m?\u001b[0m eta \u001b[36m-:--:--\u001b[0m\r\u001b[2K   \u001b[91m━━━━━━━━━━━━━━━━━━━━━━━━\u001b[0m\u001b[91m╸\u001b[0m\u001b[90m━━━━━━━━━━━━━━━\u001b[0m \u001b[32m143.4/232.6 kB\u001b[0m \u001b[31m4.9 MB/s\u001b[0m eta \u001b[36m0:00:01\u001b[0m\r\u001b[2K   \u001b[90m━━━━━━━━━━━━━━━━━━━━━━━━━━━━━━━━━━━━━━━━\u001b[0m \u001b[32m232.6/232.6 kB\u001b[0m \u001b[31m4.3 MB/s\u001b[0m eta \u001b[36m0:00:00\u001b[0m\n",
            "\u001b[?25hInstalling collected packages: PyPDF2\n",
            "Successfully installed PyPDF2-3.0.1\n"
          ]
        }
      ],
      "source": [
        "#pip install PyPDF2"
      ]
    },
    {
      "cell_type": "code",
      "source": [
        "import PyPDF2"
      ],
      "metadata": {
        "id": "XkhPQBzIl7T6"
      },
      "execution_count": null,
      "outputs": []
    },
    {
      "cell_type": "code",
      "source": [
        "pdf_file_1 = open('file1.pdf', 'rb') #rb - читает как бинарные данные\n",
        "pdf_reader = PyPDF2.PdfReader(pdf_file_1)\n",
        "\n",
        "print('Всего страниц: ', len(pdf_reader.pages)) #считаем, сколько страниц\n",
        "print('\\n-------------------------------------------------------------')\n",
        "print('\\nТекст первой страницы:\\n')\n",
        "text1 = pdf_reader.pages[0].extract_text()\n",
        "print(text1) #пишем текст первой страницы\n",
        "print(pdf_reader.pages[0]) #но если мы напишем так, то он выведет техническую информацию\n",
        "pdf_file_1.close()"
      ],
      "metadata": {
        "colab": {
          "base_uri": "https://localhost:8080/"
        },
        "id": "-00k5bxQmGcY",
        "outputId": "92d772e5-c4fd-4857-b425-4fc06b0ba440"
      },
      "execution_count": null,
      "outputs": [
        {
          "output_type": "stream",
          "name": "stdout",
          "text": [
            "Всего страниц:  2\n",
            "\n",
            "-------------------------------------------------------------\n",
            "\n",
            "Текст первой страницы:\n",
            "\n",
            "Если гонится за вами  \n",
            "слишком много человек,  \n",
            "расспросите их подробно,  \n",
            "чем они огорчены.  \n",
            " \n",
            "Постарайтесь и утешить,  \n",
            "Дайте каждому совет,  \n",
            "но снижать при этом скорость  \n",
            "совершенно ни к чему.  \n",
            "{'/Type': '/Page', '/Parent': IndirectObject(2, 0, 136721645209392), '/Resources': {'/Font': {'/F1': IndirectObject(5, 0, 136721645209392), '/F2': IndirectObject(12, 0, 136721645209392)}, '/ExtGState': {'/GS10': IndirectObject(10, 0, 136721645209392), '/GS11': IndirectObject(11, 0, 136721645209392)}, '/ProcSet': ['/PDF', '/Text', '/ImageB', '/ImageC', '/ImageI']}, '/MediaBox': [0, 0, 595.32, 841.92], '/Contents': IndirectObject(4, 0, 136721645209392), '/Group': {'/Type': '/Group', '/S': '/Transparency', '/CS': '/DeviceRGB'}, '/Tabs': '/S', '/StructParents': 0}\n"
          ]
        }
      ]
    },
    {
      "cell_type": "code",
      "source": [
        "for i in range(1, 4): #читаем все 3 файлы pdf\n",
        "  pdf_file = open(f'file{i}.pdf', 'rb')\n",
        "  pdf_reader = PyPDF2.PdfReader(pdf_file)\n",
        "  for pdf_page in pdf_reader.pages[1:]: #мы можем указать срезы\n",
        "    text1 = pdf_page.extract_text()\n",
        "    #print(text1)\n",
        "    print(text1.strip()) #чтобы выводил без энтера\n",
        "  pdf_file.close()"
      ],
      "metadata": {
        "colab": {
          "base_uri": "https://localhost:8080/"
        },
        "id": "zr6vys17n8_s",
        "outputId": "1a481324-1df5-433d-890f-a273e60fc1fc"
      },
      "execution_count": null,
      "outputs": [
        {
          "output_type": "stream",
          "name": "stdout",
          "text": [
            "Это будет первая страница прекрасного текста.\n",
            "Это будет вторая  страница прекрасного текста.\n",
            "Это будет третья страница прекрасного текста.\n",
            "Это будет четвертая  страница прекрасного текста.\n",
            "Это будет пятая  страница прекрасного текста.\n",
            "Это будет шестая  страница прекрасного текста.\n"
          ]
        }
      ]
    },
    {
      "cell_type": "markdown",
      "source": [
        "Теперь посмотрим, как можно записывать что-либо в pdf"
      ],
      "metadata": {
        "id": "FXjN3EEKqmok"
      }
    },
    {
      "cell_type": "code",
      "source": [
        "pdf_writer = PyPDF2.PdfWriter()\n",
        "\n",
        "for i in range(1, 4): #читаем все 3 файлы pdf\n",
        "  pdf_file = open(f'file{i}.pdf', 'rb')\n",
        "  pdf_reader = PyPDF2.PdfReader(pdf_file)\n",
        "  for pdf_page in pdf_reader.pages[1:]: #мы можем указать срезы\n",
        "    #text1 = pdf_page.extract_text()\n",
        "    #print(text1)\n",
        "    #print(text1.strip()) #чтобы выводил без энтера\n",
        "    pdf_writer.add_page(pdf_page)\n",
        "  pdf_file.close()\n",
        "\n",
        "#Записываем writer в файл\n",
        "\n",
        "with open('BeautifulStory.pdf', 'wb') as f: #wb - бинарный write\n",
        "  pdf_writer.write(f)"
      ],
      "metadata": {
        "id": "FRqWVvxDpw6k"
      },
      "execution_count": null,
      "outputs": []
    },
    {
      "cell_type": "markdown",
      "source": [
        "Теперь учимся делать водяной знак.\n",
        "\n",
        "Сначала мы должны сделать его вручную в word и сохраняем в формате pdf"
      ],
      "metadata": {
        "id": "BEDGQwMUsnTJ"
      }
    },
    {
      "cell_type": "code",
      "source": [
        "pdf_text = open('text.pdf', 'rb') #сам текст\n",
        "pdf_reader = PyPDF2.PdfReader(pdf_text)\n",
        "pdf_page = pdf_reader.pages[0] #берём первую страницу\n",
        "\n",
        "pdf_wm = open('watermark.pdf', 'rb') #файл с вотермаркой\n",
        "watermark_reader = PyPDF2.PdfReader(pdf_wm)\n",
        "watermark_page = watermark_reader.pages[0] #берём первую страницу\n",
        "\n",
        "'''ОБЪЕДИНЯЕМ СТРАНИЦЫ'''\n",
        "\n",
        "watermark_page.merge_page(pdf_page)\n",
        "pdf_writer = PyPDF2.PdfWriter()\n",
        "pdf_writer.add_page(watermark_page)\n",
        "\n",
        "with open('Watermark_secret.pdf', 'wb') as f: #wb - бинарный write\n",
        "  pdf_writer.write(f)"
      ],
      "metadata": {
        "id": "HP3J1DOYsbCT"
      },
      "execution_count": null,
      "outputs": []
    },
    {
      "cell_type": "code",
      "source": [],
      "metadata": {
        "id": "5PjOGdgJwFDN"
      },
      "execution_count": null,
      "outputs": []
    }
  ]
}