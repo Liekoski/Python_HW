{
  "nbformat": 4,
  "nbformat_minor": 0,
  "metadata": {
    "colab": {
      "provenance": []
    },
    "kernelspec": {
      "name": "python3",
      "display_name": "Python 3"
    },
    "language_info": {
      "name": "python"
    }
  },
  "cells": [
    {
      "cell_type": "code",
      "execution_count": null,
      "metadata": {
        "id": "wpsErSk8vcUn"
      },
      "outputs": [],
      "source": [
        "total = 0\n",
        "vasya = 0\n",
        "john = 0\n",
        "names = set()"
      ]
    },
    {
      "cell_type": "code",
      "source": [
        "vasya_times = 0\n",
        "john_times = 0"
      ],
      "metadata": {
        "id": "EPxSW9jFzWI8"
      },
      "execution_count": null,
      "outputs": []
    },
    {
      "cell_type": "code",
      "source": [
        "with open('berries.txt', encoding='utf-8') as f:\n",
        "  for line in f:\n",
        "    items = line.split()\n",
        "    weight = int(items[1])\n",
        "\n",
        "    names.add(items[0])\n",
        "    total = total + weight\n",
        "    if items[0] == 'Вася':\n",
        "      vasya = vasya + weight\n",
        "      vasya_times += 1\n",
        "    elif items[0] == 'Джон':\n",
        "      john = john + weight\n",
        "      john_times += 1\n"
      ],
      "metadata": {
        "id": "IJmrB0vgwEaD"
      },
      "execution_count": null,
      "outputs": []
    },
    {
      "cell_type": "code",
      "source": [
        "names"
      ],
      "metadata": {
        "colab": {
          "base_uri": "https://localhost:8080/"
        },
        "id": "8yFc4tLEwwOt",
        "outputId": "431f18b0-2566-4e48-e68c-e1c320a14522"
      },
      "execution_count": null,
      "outputs": [
        {
          "output_type": "execute_result",
          "data": {
            "text/plain": [
              "{'Вася', 'Глеб', 'Джон', 'Илон', 'Лена', 'Петя', 'Саша', 'Таня'}"
            ]
          },
          "metadata": {},
          "execution_count": 20
        }
      ]
    },
    {
      "cell_type": "code",
      "source": [
        "print('Всего собрали якод:', total)"
      ],
      "metadata": {
        "colab": {
          "base_uri": "https://localhost:8080/"
        },
        "id": "4d5atHu6wxJ5",
        "outputId": "c9902c33-5a5a-45b0-b3f2-8049dddf827d"
      },
      "execution_count": null,
      "outputs": [
        {
          "output_type": "stream",
          "name": "stdout",
          "text": [
            "Всего собрали якод: 1473\n"
          ]
        }
      ]
    },
    {
      "cell_type": "code",
      "source": [
        "print('Вася собрал:', vasya, ', и он приходил', vasya_times, 'раз')"
      ],
      "metadata": {
        "colab": {
          "base_uri": "https://localhost:8080/"
        },
        "id": "FYWGyM_nw3A0",
        "outputId": "db90940d-ffe6-4732-b7dc-fd679aac4686"
      },
      "execution_count": null,
      "outputs": [
        {
          "output_type": "stream",
          "name": "stdout",
          "text": [
            "Вася собрал: 234 , и он приходил 50 раз\n"
          ]
        }
      ]
    },
    {
      "cell_type": "code",
      "source": [
        "print('Джон собрал:', john, ', и он приходил', john_times, 'раз')"
      ],
      "metadata": {
        "colab": {
          "base_uri": "https://localhost:8080/"
        },
        "id": "y6JJBKCZxG0S",
        "outputId": "5ca67b61-9199-4566-e59c-ae739a3c7f01"
      },
      "execution_count": null,
      "outputs": [
        {
          "output_type": "stream",
          "name": "stdout",
          "text": [
            "Джон собрал: 254 , и он приходил 51 раз\n"
          ]
        }
      ]
    }
  ]
}