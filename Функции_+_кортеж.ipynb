{
  "nbformat": 4,
  "nbformat_minor": 0,
  "metadata": {
    "colab": {
      "provenance": []
    },
    "kernelspec": {
      "name": "python3",
      "display_name": "Python 3"
    },
    "language_info": {
      "name": "python"
    }
  },
  "cells": [
    {
      "cell_type": "markdown",
      "source": [
        "0. Удаление дубликатов:\n",
        "   Напишите функцию remove_duplicates(lst), которая принимает список и возвращает новый список, содержащий только уникальные элементы исходного списка."
      ],
      "metadata": {
        "id": "hrUINuiSVDqL"
      }
    },
    {
      "cell_type": "code",
      "execution_count": null,
      "metadata": {
        "id": "JjN9i4rHTxzb"
      },
      "outputs": [],
      "source": [
        "def remove_dublicate(lst):\n",
        "  set_lst = set(lst)\n",
        "  lst2 = list(set_lst)\n",
        "  return lst2"
      ]
    },
    {
      "cell_type": "code",
      "source": [
        "list1 = [1, 5, 1, 8, 8, 1, 6] #список\n",
        "list2 = remove_dublicate(list1)\n",
        "print(list2)"
      ],
      "metadata": {
        "colab": {
          "base_uri": "https://localhost:8080/"
        },
        "id": "KbwKiy5eUboO",
        "outputId": "2bb9ada7-727f-41e9-bfbf-672d70adb822"
      },
      "execution_count": null,
      "outputs": [
        {
          "output_type": "stream",
          "name": "stdout",
          "text": [
            "[8, 1, 5, 6]\n"
          ]
        }
      ]
    },
    {
      "cell_type": "markdown",
      "source": [
        "1. Проверка на палиндром:\n",
        "   Создайте функцию is_palindrome(lst), которая принимает список и проверяет, является ли он палиндромом (т.е. читается одинаково с обеих сторон). Функция должна возвращать True или False.\n"
      ],
      "metadata": {
        "id": "_1y_OsNwVF1R"
      }
    },
    {
      "cell_type": "markdown",
      "source": [
        "Вариант 1"
      ],
      "metadata": {
        "id": "Z1KUnj2GDys7"
      }
    },
    {
      "cell_type": "code",
      "source": [
        "def is_palindrome(lst):\n",
        "  middle = len(lst) // 2 #// - деление без остатка\n",
        "  for i in range(0, middle):\n",
        "    if i - i == 0:\n",
        "      return True\n",
        "    else:\n",
        "      return False"
      ],
      "metadata": {
        "id": "OX3oPpvEVKaz"
      },
      "execution_count": null,
      "outputs": []
    },
    {
      "cell_type": "code",
      "source": [
        "list3 = [1, 2, 3, 2, 1]\n",
        "list4 = is_palindrome(list3)\n",
        "print(list4)"
      ],
      "metadata": {
        "colab": {
          "base_uri": "https://localhost:8080/"
        },
        "id": "3Uk6OxP4YQei",
        "outputId": "4bba998b-9744-4a13-d8c4-6d353080e36d"
      },
      "execution_count": null,
      "outputs": [
        {
          "output_type": "stream",
          "name": "stdout",
          "text": [
            "True\n"
          ]
        }
      ]
    },
    {
      "cell_type": "markdown",
      "source": [
        "Вариант 2"
      ],
      "metadata": {
        "id": "UHmfpsZQD02j"
      }
    },
    {
      "cell_type": "code",
      "source": [
        "def is_palindrome2(lst):\n",
        "  if lst == lst[::-1]:\n",
        "    return True\n",
        "  else:\n",
        "    return False"
      ],
      "metadata": {
        "id": "Ql_p4aOPW_Dd"
      },
      "execution_count": null,
      "outputs": []
    },
    {
      "cell_type": "code",
      "source": [
        "list3 = [1, 2, 3, 2, 1]\n",
        "list4 = is_palindrome2(list3)\n",
        "print(list4)"
      ],
      "metadata": {
        "colab": {
          "base_uri": "https://localhost:8080/"
        },
        "id": "h3NTTzCgV2b6",
        "outputId": "50b5771a-cd1f-489f-97f3-583961ccb994"
      },
      "execution_count": null,
      "outputs": [
        {
          "output_type": "stream",
          "name": "stdout",
          "text": [
            "True\n"
          ]
        }
      ]
    },
    {
      "cell_type": "markdown",
      "source": [
        "Вариант 3"
      ],
      "metadata": {
        "id": "QqCO3r4RD2mN"
      }
    },
    {
      "cell_type": "code",
      "source": [
        "def is_palindrome3(lst):\n",
        "  if lst == reversed(lst):\n",
        "    return True\n",
        "  else:\n",
        "    return False\n"
      ],
      "metadata": {
        "id": "jdKBgo5SZHVh"
      },
      "execution_count": null,
      "outputs": []
    },
    {
      "cell_type": "code",
      "source": [
        "list3 = [1, 2, 3, 2, 1]\n",
        "list4 = is_palindrome(list3)\n",
        "print(list4)"
      ],
      "metadata": {
        "colab": {
          "base_uri": "https://localhost:8080/"
        },
        "id": "yRjgSDO3Zv5h",
        "outputId": "d0c9763b-e9e1-4bef-d728-4c3cbb421e7a"
      },
      "execution_count": null,
      "outputs": [
        {
          "output_type": "stream",
          "name": "stdout",
          "text": [
            "True\n"
          ]
        }
      ]
    },
    {
      "cell_type": "markdown",
      "source": [
        "2. Ротация списка:\n",
        "   Напишите функцию rotate_list(lst, n), которая принимает список и число n, и возвращает новый список, который является результатом циклической ротации исходного списка на n позиций вправо. Если n отрицательное, ротация должна происходить влево."
      ],
      "metadata": {
        "id": "0I5FFo8nVIKb"
      }
    },
    {
      "cell_type": "code",
      "source": [
        "def rotate_list(lst, n): #просто вырезать и удалять местами\n",
        "  animals.sort()\n"
      ],
      "metadata": {
        "id": "PB5AtxOEYxXs"
      },
      "execution_count": null,
      "outputs": []
    },
    {
      "cell_type": "code",
      "source": [
        "my_list = [1, 2, 3, 4, 5]\n",
        "number = 2\n",
        "my_list_rotate = rotate_list(my_list, number)\n",
        "print(my_list_rotate)"
      ],
      "metadata": {
        "colab": {
          "base_uri": "https://localhost:8080/"
        },
        "id": "i5vj24S-bIJC",
        "outputId": "410b5481-b593-4c7c-943a-e8151d8fa92e"
      },
      "execution_count": null,
      "outputs": [
        {
          "output_type": "stream",
          "name": "stdout",
          "text": [
            "[3, 4, 5]\n"
          ]
        }
      ]
    },
    {
      "cell_type": "markdown",
      "source": [
        "# **tuple**\n",
        "\n",
        "**Кортеж** - значение по порядку. Список можно менять, но кортеж нельзя. Из кортежа можно извлекать элементы."
      ],
      "metadata": {
        "id": "oF_hzjDDainY"
      }
    },
    {
      "cell_type": "code",
      "source": [
        "tup1 = (1, 7, 5, 7, 1)\n",
        "print(tup1)\n",
        "print(tup1[1])\n",
        "#tup1[1] = 17 кортеж не поддерживает назначения, но можно брать срезы\n",
        "print(tup1[1:3])\n",
        "print(tup1[:1]) #выдаст \"1,\""
      ],
      "metadata": {
        "colab": {
          "base_uri": "https://localhost:8080/"
        },
        "id": "AfJ4IeQGb9G8",
        "outputId": "d1fdb62e-59a4-414f-c32a-0bb794de80ef"
      },
      "execution_count": null,
      "outputs": [
        {
          "output_type": "stream",
          "name": "stdout",
          "text": [
            "(1, 7, 5, 7, 1)\n",
            "7\n",
            "(7, 5)\n",
            "(1,)\n"
          ]
        }
      ]
    },
    {
      "cell_type": "markdown",
      "source": [
        "Кортежи особенно популярны, когда у нас несколько значений"
      ],
      "metadata": {
        "id": "C3RMgGwVdREy"
      }
    },
    {
      "cell_type": "code",
      "source": [
        "name1, name2, name3 = 'Петя', 'Вася', 'Коля'"
      ],
      "metadata": {
        "id": "nWEWFIwLdEOw"
      },
      "execution_count": null,
      "outputs": []
    },
    {
      "cell_type": "code",
      "source": [
        "name1, name2, name3 = ['Петя', 'Вася', 'Коля']\n",
        "print(name2)"
      ],
      "metadata": {
        "colab": {
          "base_uri": "https://localhost:8080/"
        },
        "id": "c-ckPuUadv5R",
        "outputId": "694ec5f1-e5e7-42e2-a5a1-d23c48237776"
      },
      "execution_count": null,
      "outputs": [
        {
          "output_type": "stream",
          "name": "stdout",
          "text": [
            "Вася\n"
          ]
        }
      ]
    },
    {
      "cell_type": "code",
      "source": [
        "name1, name2, name3 = 'Юра'\n",
        "print(name2)"
      ],
      "metadata": {
        "colab": {
          "base_uri": "https://localhost:8080/"
        },
        "id": "1Q3TBQOfd3bU",
        "outputId": "0ade3c9a-b5a2-4441-c767-e613d5c1849f"
      },
      "execution_count": null,
      "outputs": [
        {
          "output_type": "stream",
          "name": "stdout",
          "text": [
            "р\n"
          ]
        }
      ]
    },
    {
      "cell_type": "markdown",
      "source": [
        "Объединяет кортежи"
      ],
      "metadata": {
        "id": "doxeI_4qen6K"
      }
    },
    {
      "cell_type": "code",
      "source": [
        "tup1 = 1, 5, 7\n",
        "tup2 = 4, 8, 3\n",
        "tup3 = tup1 + tup2\n",
        "print(tup3)"
      ],
      "metadata": {
        "colab": {
          "base_uri": "https://localhost:8080/"
        },
        "id": "OzYfm0Kyd80C",
        "outputId": "f7fccbd0-b9ec-4b7c-8a36-1bebd9f39d65"
      },
      "execution_count": null,
      "outputs": [
        {
          "output_type": "stream",
          "name": "stdout",
          "text": [
            "(1, 5, 7, 4, 8, 3)\n"
          ]
        }
      ]
    },
    {
      "cell_type": "code",
      "source": [
        "if 5 in tup1:\n",
        "  print(\"Бинго!\")"
      ],
      "metadata": {
        "colab": {
          "base_uri": "https://localhost:8080/"
        },
        "id": "8-hq6f4Mer7w",
        "outputId": "0617a65d-4a91-4c16-d583-cf14cc84733c"
      },
      "execution_count": null,
      "outputs": [
        {
          "output_type": "stream",
          "name": "stdout",
          "text": [
            "Бинго!\n"
          ]
        }
      ]
    },
    {
      "cell_type": "code",
      "source": [
        "def calcul(i):\n",
        "  a = i\n",
        "  b = i * i\n",
        "  c = i * i * i\n",
        "  return a, b, c\n",
        "\n",
        "  for item in enumerate.list1:\n",
        "    print(item)"
      ],
      "metadata": {
        "id": "Bnt8Jt1nfYDZ"
      },
      "execution_count": null,
      "outputs": []
    },
    {
      "cell_type": "markdown",
      "source": [
        "Написать функцию, которая принимает два кортежа и выдаёт третий кортеж из 1 и 2 без повторений"
      ],
      "metadata": {
        "id": "qdUkCMlygLUS"
      }
    },
    {
      "cell_type": "code",
      "source": [
        "def appended_tuples(first, second):\n",
        "  third = first + second\n",
        "  third_set = set(third)\n",
        "  return(third_set)"
      ],
      "metadata": {
        "id": "VplyI9AEgVTD"
      },
      "execution_count": null,
      "outputs": []
    },
    {
      "cell_type": "code",
      "source": [
        "tupl1 = (1, 2, 3, 4, 5)\n",
        "tupl2 = (3, 4, 5, 6, 7, 8)\n",
        "tupl3 = appended_tuples(tupl1, tupl2)\n",
        "tuple3 = tuple(tupl3)\n",
        "print(tuple3)"
      ],
      "metadata": {
        "colab": {
          "base_uri": "https://localhost:8080/"
        },
        "id": "_C9-rlYkhdMu",
        "outputId": "c0774f9d-768f-4a34-bf22-e54128e8c820"
      },
      "execution_count": null,
      "outputs": [
        {
          "output_type": "stream",
          "name": "stdout",
          "text": [
            "(1, 2, 3, 4, 5, 6, 7, 8)\n"
          ]
        }
      ]
    }
  ]
}